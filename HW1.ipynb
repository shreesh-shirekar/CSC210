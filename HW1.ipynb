{
 "cells": [
  {
   "metadata": {},
   "cell_type": "markdown",
   "source": [
    "## Problem 1: Printing Patterns\n",
    "Write a Python program to ask the number of rows n as the input from the user and then print the natural generalization of the following pattern with n rows."
   ],
   "id": "81e41c9a5948fb38"
  },
  {
   "cell_type": "code",
   "id": "initial_id",
   "metadata": {
    "collapsed": true,
    "ExecuteTime": {
     "end_time": "2024-08-17T05:39:00.465238Z",
     "start_time": "2024-08-17T05:38:58.158457Z"
    }
   },
   "source": [
    "n = int(input(\"Number of Rows:\")) # Take integer input from user\n",
    "\n",
    "# iterate over a range from 1 to n+1 printing out 'i' number of '#'s in a row\n",
    "for i in range(1, n+1):\n",
    "    print(\"#\" * i)"
   ],
   "outputs": [
    {
     "name": "stdout",
     "output_type": "stream",
     "text": [
      "#\n",
      "##\n",
      "###\n",
      "####\n",
      "#####\n"
     ]
    }
   ],
   "execution_count": 68
  },
  {
   "metadata": {},
   "cell_type": "markdown",
   "source": [
    "## Problem 2: Multiplication Table\n",
    "Write a Python program to print the multiplication table of a given number."
   ],
   "id": "2a6c5106f216396b"
  },
  {
   "metadata": {
    "ExecuteTime": {
     "end_time": "2024-08-17T05:40:24.076531Z",
     "start_time": "2024-08-17T05:40:18.851957Z"
    }
   },
   "cell_type": "code",
   "source": [
    "n = int(input(\"Number:\")) # Take integer input from user\n",
    "\n",
    "# iterates over a range from 1 to 11 and print out the inputted integer multiplied with the 'i'\n",
    "for i in range(1, 11):\n",
    "    print(n, \"*\", i , \"=\", n * i) # print out each of the multiplication equations as a row\n",
    "    "
   ],
   "id": "61289cc46ff05e86",
   "outputs": [
    {
     "name": "stdout",
     "output_type": "stream",
     "text": [
      "10 * 1 = 10\n",
      "10 * 2 = 20\n",
      "10 * 3 = 30\n",
      "10 * 4 = 40\n",
      "10 * 5 = 50\n",
      "10 * 6 = 60\n",
      "10 * 7 = 70\n",
      "10 * 8 = 80\n",
      "10 * 9 = 90\n",
      "10 * 10 = 100\n"
     ]
    }
   ],
   "execution_count": 69
  },
  {
   "metadata": {},
   "cell_type": "markdown",
   "source": [
    "## Problem 3: Sum of Squares\n",
    "Write a Python program to find the sum of squares of the first n natural numbers."
   ],
   "id": "3105c0b6064d1337"
  },
  {
   "metadata": {
    "ExecuteTime": {
     "end_time": "2024-08-17T05:42:24.088651Z",
     "start_time": "2024-08-17T05:42:22.203411Z"
    }
   },
   "cell_type": "code",
   "source": [
    "n = int(input(\"Number:\")) # Take integer input from user\n",
    "sum = 0 # initialize sum variable and set it to 0\n",
    "\n",
    "# iterate over range from 1 to n and multiply each iteration to its square and add it to the sum\n",
    "for i in range(1, n):\n",
    "    exp = i**2\n",
    "    sum = sum + exp\n",
    "\n",
    "print(\"Sum of squares until\", n , \"=\", sum) # print out the sum of squares\n"
   ],
   "id": "ea4be9558812144",
   "outputs": [
    {
     "name": "stdout",
     "output_type": "stream",
     "text": [
      "Sum of squares until 5 = 30\n"
     ]
    }
   ],
   "execution_count": 70
  },
  {
   "metadata": {},
   "cell_type": "markdown",
   "source": [
    "## Problem 4: List Operations\n",
    "- The sum of all elements in the list\n",
    "- The maximum element in the list\n",
    "- The minimum element in the list\n",
    "- The average of the elements in the list"
   ],
   "id": "81ca1ab70b64efe4"
  },
  {
   "metadata": {
    "ExecuteTime": {
     "end_time": "2024-08-16T15:45:47.107679Z",
     "start_time": "2024-08-16T15:45:47.096677Z"
    }
   },
   "cell_type": "code",
   "source": [
    "list = [12, 2, 3, 4, 11, 21, 7, 8, 9, 10] # initializes a list of intergers\n",
    "\n",
    "#initializes and sets the sum of the list to 0 and max and min to the first list value\n",
    "sum = 0\n",
    "max = list[0]\n",
    "min = list[0]\n",
    "\n",
    "# Sum of List (iterates over the list and adds the next list value to the sum variable)\n",
    "for i in range(len(list)):\n",
    "    sum += list[i]\n",
    " \n",
    "# Maximum of List (iterates over the list and checks the list[j] value to see if \n",
    "for j in list:\n",
    "    if j > max:\n",
    "        max = j\n",
    "\n",
    "# Minimum of List\n",
    "for k in list:\n",
    "    if k < min:\n",
    "        min = k\n",
    "\n",
    "# Average of Array\n",
    "average = sum / len(list)\n",
    "\n",
    "print(\"The sum of all elements is\", sum)\n",
    "print(\"The maximum element is\", max)\n",
    "print(\"The minimum element is\", min)\n",
    "print(\"The average element is\", average)"
   ],
   "id": "5f09973e0058f033",
   "outputs": [
    {
     "name": "stdout",
     "output_type": "stream",
     "text": [
      "The sum of all elements is 87\n",
      "The maximum element is 21\n",
      "The minimum element is 2\n",
      "The average element is 8.7\n"
     ]
    }
   ],
   "execution_count": 48
  },
  {
   "metadata": {},
   "cell_type": "markdown",
   "source": [
    "## Problem 5: Check Prime Number\n",
    "Write a Python program to check if a given number is a prime number."
   ],
   "id": "9095dd8cf94e12b5"
  },
  {
   "metadata": {
    "ExecuteTime": {
     "end_time": "2024-08-16T15:52:51.280244Z",
     "start_time": "2024-08-16T15:52:48.731621Z"
    }
   },
   "cell_type": "code",
   "source": [
    "n = int(input(\"Choose a number:\")) # Takes input of test number\n",
    "prime = True # Sets prime boolean to initial value of True\n",
    "\n",
    "# Iterates to check if the test number is divisible by any number from 2 to the square root of the test number, \n",
    "# if yes, changes the prime variable to False\n",
    "for i in range(2, int(n**0.5) + 1):\n",
    "    if n % i == 0:\n",
    "         prime = False\n",
    "\n",
    "print(\"Is\", n, \"a prime number:\", prime) # Prints Result\n",
    "\n"
   ],
   "id": "777058c9e7ce290e",
   "outputs": [
    {
     "name": "stdout",
     "output_type": "stream",
     "text": [
      "Is 123 a prime number: False\n"
     ]
    }
   ],
   "execution_count": 55
  },
  {
   "metadata": {},
   "cell_type": "markdown",
   "source": [
    "## Problem 6: Fibonacci Sequence\n",
    "Write a Python program to generate the Fibonacci sequence up to the n-th term."
   ],
   "id": "3254b20d8428b2e1"
  },
  {
   "metadata": {
    "ExecuteTime": {
     "end_time": "2024-08-17T05:20:22.880039Z",
     "start_time": "2024-08-17T05:20:20.709717Z"
    }
   },
   "cell_type": "code",
   "source": [
    "n = int(input(\"Choose a number:\")) # Takes input nth term\n",
    "\n",
    "# Sets initial values of the sequence\n",
    "a = 0 \n",
    "b = 1\n",
    "  \n",
    "# Iteration over the nth term to print out the sequence until the nth term\n",
    "for i in range(n):\n",
    "    print(a)\n",
    "    c = a + b\n",
    "    a = b\n",
    "    b = c"
   ],
   "id": "65d20c1036b1b873",
   "outputs": [
    {
     "name": "stdout",
     "output_type": "stream",
     "text": [
      "0\n",
      "1\n",
      "1\n"
     ]
    }
   ],
   "execution_count": 67
  },
  {
   "metadata": {},
   "cell_type": "markdown",
   "source": [
    "## Problem 7: Factorial Calculation\n",
    "Write a Python program to calculate the factorial of a given number in two different ways: one without using recursion and another by using recursion."
   ],
   "id": "c33ad37856c8114f"
  },
  {
   "metadata": {
    "ExecuteTime": {
     "end_time": "2024-08-17T06:21:06.006998Z",
     "start_time": "2024-08-17T06:21:04.763120Z"
    }
   },
   "cell_type": "code",
   "source": [
    "n = int(input(\"Choose a number:\")) # Take integer input from user\n",
    "fact = 1 # initialize variable to store starting number\n",
    "\n",
    "# iterate over a range from 1 to n + 1 and keep assigning fact as the product of itself into the iteration\n",
    "for i in range(1, n+1):\n",
    "    fact = fact * i\n",
    "    \n",
    "def factorial(n):\n",
    "    fact_ini = 1 # initialize variable to store starting number inside function\n",
    "    if n == 0:\n",
    "        return 1\n",
    "    return n * factorial(n - 1)\n",
    "    \n",
    "factorial(n)\n",
    "\n",
    "print(\"(Without Recursion) 5!\", n, \"is \", fact)\n",
    "print(\"(With Recursion) 5!\", n, \"is \", factorial(n))"
   ],
   "id": "ec2d9e87bf7d6281",
   "outputs": [
    {
     "name": "stdout",
     "output_type": "stream",
     "text": [
      "(Without Recursion) Factorial of 5 is  120\n",
      "(With Recursion) Factorial of 5 is  120\n"
     ]
    }
   ],
   "execution_count": 76
  },
  {
   "metadata": {},
   "cell_type": "markdown",
   "source": [
    "## Problem 8: Palindrome Checker\n",
    "Write a Python program to check if a given string is a palindrome."
   ],
   "id": "fedfae2adfe7f13b"
  },
  {
   "metadata": {
    "ExecuteTime": {
     "end_time": "2024-08-17T08:44:40.004557Z",
     "start_time": "2024-08-17T08:44:27.307610Z"
    }
   },
   "cell_type": "code",
   "source": [
    "string = input(\"Enter a string:\") # Takes string input from user\n",
    "\n",
    "string = string.lower() # makes the entire string lowercase to make the string not case-sensitive\n",
    "\n",
    "if string == string[::-1]: # checks if the string is the same backwards\n",
    "    print(string, \"is a palindrome.\")\n",
    "else:\n",
    "    print(string, \"is not a palindrome.\")\n",
    "\n"
   ],
   "id": "de72f7f528b7b813",
   "outputs": [
    {
     "name": "stdout",
     "output_type": "stream",
     "text": [
      "racecar is a palindrome.\n"
     ]
    }
   ],
   "execution_count": 79
  },
  {
   "metadata": {},
   "cell_type": "markdown",
   "source": [
    "## Problem 9: Sum of Digits\n",
    "Write a Python program to find the sum of the digits of a given number."
   ],
   "id": "e494ca8e332e0daf"
  },
  {
   "metadata": {
    "ExecuteTime": {
     "end_time": "2024-08-17T08:50:11.124195Z",
     "start_time": "2024-08-17T08:50:04.744496Z"
    }
   },
   "cell_type": "code",
   "source": [
    "n = int(input(\"Choose a number:\")) # takes input of integer n\n",
    "sum = 0 # initialize sum to 0\n",
    "\n",
    "n = abs(n) # takes absolute value to allow negative numbers to be used\n",
    "\n",
    "# loop through each digit and take the last digit and add it to sum, then remove the last digit\n",
    "while n > 0:\n",
    "    sum += n % 10\n",
    "    n //= 10\n",
    "\n",
    "print(\"The sum of all elements is\", sum)"
   ],
   "id": "b6d01b0d1032c033",
   "outputs": [
    {
     "name": "stdout",
     "output_type": "stream",
     "text": [
      "The sum of all elements is 6\n"
     ]
    }
   ],
   "execution_count": 80
  },
  {
   "metadata": {},
   "cell_type": "markdown",
   "source": [
    "## Problem 10: Guess the Number\n",
    "Write a Python program that implements a simple \"Guess the Number\" game"
   ],
   "id": "ddd18f3076356c34"
  },
  {
   "metadata": {
    "ExecuteTime": {
     "end_time": "2024-08-17T08:58:32.942651Z",
     "start_time": "2024-08-17T08:58:15.722521Z"
    }
   },
   "cell_type": "code",
   "source": [
    "# import random module to utilize random.randiant function\n",
    "import random\n",
    "\n",
    "num = random.randint(1, 100) # chooses a random number from 1 to 100\n",
    "attempts = 0 # intializes number of attempts to 0\n",
    "\n",
    "print(\"Guess the number chosen by the computer:\")\n",
    "\n",
    "while True:\n",
    "    guess = int(input(\"Guess the number:\")) # take user input as a guess\n",
    "    attempts += 1 # increment the counter\n",
    "    \n",
    "    if guess > num: # if the guess is high, prints the following statement\n",
    "        print(\"Too High! Try again!\")\n",
    "    elif guess < num: # if the guess is low, prints the following statement\n",
    "        print(\"Too Low! Try again!\")\n",
    "    else: # if the guess is correct, prints the following statement and breaks the loop\n",
    "        print(\"Correct! Guessed the number in \", attempts, \" attempts\")\n",
    "        break\n"
   ],
   "id": "b9f36be61db84f93",
   "outputs": [
    {
     "name": "stdout",
     "output_type": "stream",
     "text": [
      "29\n",
      "Guess the number chosen by the computer:\n",
      "Too High! Try again!\n",
      "Too High! Try again!\n",
      "Correct! Guessed the number in  3  attempts\n"
     ]
    }
   ],
   "execution_count": 85
  },
  {
   "metadata": {},
   "cell_type": "markdown",
   "source": [
    "##  11: Turtle Graphics\n",
    "Use the python turtle graphics module to draw the following:"
   ],
   "id": "2588758e41327c4f"
  },
  {
   "metadata": {},
   "cell_type": "markdown",
   "source": "(a) A regular polygon of side n, where n is the input provided by the user.",
   "id": "f5f5c73b9b0bedc0"
  },
  {
   "metadata": {
    "ExecuteTime": {
     "end_time": "2024-08-17T09:06:01.412905900Z",
     "start_time": "2024-08-17T09:05:39.904109Z"
    }
   },
   "cell_type": "code",
   "source": [
    "import turtle # imports turtle module\n",
    "\n",
    "def polygon(sides): #function which takes in n sides as the parameter\n",
    "    pen = turtle.Turtle() #creates the turtle obejct\n",
    "    length = 10 # keeps side lengths to be 10 units\n",
    "    \n",
    "    pen.speed(1) # sets the speed of the drawing\n",
    "    angle = 360/sides # calculates the angle between the sides\n",
    "    \n",
    "    #iterates over i and draws the polygon\n",
    "    for i in range(sides):\n",
    "        pen.forward(length)\n",
    "        pen.right(angle)\n",
    "    \n",
    "    # hides the turtle and finishes\n",
    "    pen.hideturtle()\n",
    "    turtle.done()\n",
    "\n",
    "sides = int(input(\"Number of sides:\"))\n",
    "\n",
    "polygon(sides)"
   ],
   "id": "ca5b41afb488b457",
   "outputs": [
    {
     "ename": "KeyboardInterrupt",
     "evalue": "",
     "output_type": "error",
     "traceback": [
      "\u001B[1;31m---------------------------------------------------------------------------\u001B[0m",
      "\u001B[1;31mKeyboardInterrupt\u001B[0m                         Traceback (most recent call last)",
      "Cell \u001B[1;32mIn[86], line 21\u001B[0m\n\u001B[0;32m     17\u001B[0m     turtle\u001B[38;5;241m.\u001B[39mdone()\n\u001B[0;32m     19\u001B[0m sides \u001B[38;5;241m=\u001B[39m \u001B[38;5;28mint\u001B[39m(\u001B[38;5;28minput\u001B[39m(\u001B[38;5;124m\"\u001B[39m\u001B[38;5;124mNumber of sides:\u001B[39m\u001B[38;5;124m\"\u001B[39m))\n\u001B[1;32m---> 21\u001B[0m \u001B[43mpolygon\u001B[49m\u001B[43m(\u001B[49m\u001B[43msides\u001B[49m\u001B[43m)\u001B[49m\n",
      "Cell \u001B[1;32mIn[86], line 17\u001B[0m, in \u001B[0;36mpolygon\u001B[1;34m(sides)\u001B[0m\n\u001B[0;32m     15\u001B[0m \u001B[38;5;66;03m# hides the turtle and finishes\u001B[39;00m\n\u001B[0;32m     16\u001B[0m pen\u001B[38;5;241m.\u001B[39mhideturtle()\n\u001B[1;32m---> 17\u001B[0m \u001B[43mturtle\u001B[49m\u001B[38;5;241;43m.\u001B[39;49m\u001B[43mdone\u001B[49m\u001B[43m(\u001B[49m\u001B[43m)\u001B[49m\n",
      "File \u001B[1;32m<string>:8\u001B[0m, in \u001B[0;36mmainloop\u001B[1;34m()\u001B[0m\n",
      "File \u001B[1;32mC:\\Program Files\\WindowsApps\\PythonSoftwareFoundation.Python.3.10_3.10.3056.0_x64__qbz5n2kfra8p0\\lib\\turtle.py:811\u001B[0m, in \u001B[0;36mTurtleScreenBase.mainloop\u001B[1;34m(self)\u001B[0m\n\u001B[0;32m    798\u001B[0m \u001B[38;5;28;01mdef\u001B[39;00m \u001B[38;5;21mmainloop\u001B[39m(\u001B[38;5;28mself\u001B[39m):\n\u001B[0;32m    799\u001B[0m \u001B[38;5;250m    \u001B[39m\u001B[38;5;124;03m\"\"\"Starts event loop - calling Tkinter's mainloop function.\u001B[39;00m\n\u001B[0;32m    800\u001B[0m \n\u001B[0;32m    801\u001B[0m \u001B[38;5;124;03m    No argument.\u001B[39;00m\n\u001B[1;32m   (...)\u001B[0m\n\u001B[0;32m    809\u001B[0m \n\u001B[0;32m    810\u001B[0m \u001B[38;5;124;03m    \"\"\"\u001B[39;00m\n\u001B[1;32m--> 811\u001B[0m     \u001B[38;5;28;43mself\u001B[39;49m\u001B[38;5;241;43m.\u001B[39;49m\u001B[43mcv\u001B[49m\u001B[38;5;241;43m.\u001B[39;49m\u001B[43mtk\u001B[49m\u001B[38;5;241;43m.\u001B[39;49m\u001B[43mmainloop\u001B[49m\u001B[43m(\u001B[49m\u001B[43m)\u001B[49m\n",
      "\u001B[1;31mKeyboardInterrupt\u001B[0m: "
     ]
    }
   ],
   "execution_count": 86
  }
 ],
 "metadata": {
  "kernelspec": {
   "display_name": "Python 3",
   "language": "python",
   "name": "python3"
  },
  "language_info": {
   "codemirror_mode": {
    "name": "ipython",
    "version": 2
   },
   "file_extension": ".py",
   "mimetype": "text/x-python",
   "name": "python",
   "nbconvert_exporter": "python",
   "pygments_lexer": "ipython2",
   "version": "2.7.6"
  }
 },
 "nbformat": 4,
 "nbformat_minor": 5
}
