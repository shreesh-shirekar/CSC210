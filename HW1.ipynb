{
 "cells": [
  {
   "metadata": {},
   "cell_type": "markdown",
   "source": [
    "## Problem 1: Printing Patterns\n",
    "Write a Python program to ask the number of rows n as the input from the user and then print the natural generalization of the following pattern with n rows."
   ],
   "id": "81e41c9a5948fb38"
  },
  {
   "cell_type": "code",
   "id": "initial_id",
   "metadata": {
    "collapsed": true,
    "ExecuteTime": {
     "end_time": "2024-08-16T05:05:03.947348Z",
     "start_time": "2024-08-16T05:05:00.602323Z"
    }
   },
   "source": [
    "from math import remainder\n",
    "\n",
    "n = int(input(\"Number of Rows:\"))\n",
    "for i in range(1, n+1):\n",
    "    print(\"#\" * i)"
   ],
   "outputs": [
    {
     "ename": "KeyboardInterrupt",
     "evalue": "Interrupted by user",
     "output_type": "error",
     "traceback": [
      "\u001B[1;31m---------------------------------------------------------------------------\u001B[0m",
      "\u001B[1;31mKeyboardInterrupt\u001B[0m                         Traceback (most recent call last)",
      "Cell \u001B[1;32mIn[5], line 1\u001B[0m\n\u001B[1;32m----> 1\u001B[0m n \u001B[38;5;241m=\u001B[39m \u001B[38;5;28mint\u001B[39m(\u001B[38;5;28;43minput\u001B[39;49m\u001B[43m(\u001B[49m\u001B[38;5;124;43m\"\u001B[39;49m\u001B[38;5;124;43mNumber of Rows:\u001B[39;49m\u001B[38;5;124;43m\"\u001B[39;49m\u001B[43m)\u001B[49m)\n\u001B[0;32m      2\u001B[0m \u001B[38;5;28;01mfor\u001B[39;00m i \u001B[38;5;129;01min\u001B[39;00m \u001B[38;5;28mrange\u001B[39m(\u001B[38;5;241m1\u001B[39m, n\u001B[38;5;241m+\u001B[39m\u001B[38;5;241m1\u001B[39m):\n\u001B[0;32m      3\u001B[0m     \u001B[38;5;28mprint\u001B[39m(\u001B[38;5;124m\"\u001B[39m\u001B[38;5;124m#\u001B[39m\u001B[38;5;124m\"\u001B[39m \u001B[38;5;241m*\u001B[39m i)\n",
      "File \u001B[1;32m~\\programming\\.venv\\lib\\site-packages\\ipykernel\\kernelbase.py:1251\u001B[0m, in \u001B[0;36mKernel.raw_input\u001B[1;34m(self, prompt)\u001B[0m\n\u001B[0;32m   1249\u001B[0m     msg \u001B[38;5;241m=\u001B[39m \u001B[38;5;124m\"\u001B[39m\u001B[38;5;124mraw_input was called, but this frontend does not support input requests.\u001B[39m\u001B[38;5;124m\"\u001B[39m\n\u001B[0;32m   1250\u001B[0m     \u001B[38;5;28;01mraise\u001B[39;00m StdinNotImplementedError(msg)\n\u001B[1;32m-> 1251\u001B[0m \u001B[38;5;28;01mreturn\u001B[39;00m \u001B[38;5;28;43mself\u001B[39;49m\u001B[38;5;241;43m.\u001B[39;49m\u001B[43m_input_request\u001B[49m\u001B[43m(\u001B[49m\n\u001B[0;32m   1252\u001B[0m \u001B[43m    \u001B[49m\u001B[38;5;28;43mstr\u001B[39;49m\u001B[43m(\u001B[49m\u001B[43mprompt\u001B[49m\u001B[43m)\u001B[49m\u001B[43m,\u001B[49m\n\u001B[0;32m   1253\u001B[0m \u001B[43m    \u001B[49m\u001B[38;5;28;43mself\u001B[39;49m\u001B[38;5;241;43m.\u001B[39;49m\u001B[43m_parent_ident\u001B[49m\u001B[43m[\u001B[49m\u001B[38;5;124;43m\"\u001B[39;49m\u001B[38;5;124;43mshell\u001B[39;49m\u001B[38;5;124;43m\"\u001B[39;49m\u001B[43m]\u001B[49m\u001B[43m,\u001B[49m\n\u001B[0;32m   1254\u001B[0m \u001B[43m    \u001B[49m\u001B[38;5;28;43mself\u001B[39;49m\u001B[38;5;241;43m.\u001B[39;49m\u001B[43mget_parent\u001B[49m\u001B[43m(\u001B[49m\u001B[38;5;124;43m\"\u001B[39;49m\u001B[38;5;124;43mshell\u001B[39;49m\u001B[38;5;124;43m\"\u001B[39;49m\u001B[43m)\u001B[49m\u001B[43m,\u001B[49m\n\u001B[0;32m   1255\u001B[0m \u001B[43m    \u001B[49m\u001B[43mpassword\u001B[49m\u001B[38;5;241;43m=\u001B[39;49m\u001B[38;5;28;43;01mFalse\u001B[39;49;00m\u001B[43m,\u001B[49m\n\u001B[0;32m   1256\u001B[0m \u001B[43m\u001B[49m\u001B[43m)\u001B[49m\n",
      "File \u001B[1;32m~\\programming\\.venv\\lib\\site-packages\\ipykernel\\kernelbase.py:1295\u001B[0m, in \u001B[0;36mKernel._input_request\u001B[1;34m(self, prompt, ident, parent, password)\u001B[0m\n\u001B[0;32m   1292\u001B[0m \u001B[38;5;28;01mexcept\u001B[39;00m \u001B[38;5;167;01mKeyboardInterrupt\u001B[39;00m:\n\u001B[0;32m   1293\u001B[0m     \u001B[38;5;66;03m# re-raise KeyboardInterrupt, to truncate traceback\u001B[39;00m\n\u001B[0;32m   1294\u001B[0m     msg \u001B[38;5;241m=\u001B[39m \u001B[38;5;124m\"\u001B[39m\u001B[38;5;124mInterrupted by user\u001B[39m\u001B[38;5;124m\"\u001B[39m\n\u001B[1;32m-> 1295\u001B[0m     \u001B[38;5;28;01mraise\u001B[39;00m \u001B[38;5;167;01mKeyboardInterrupt\u001B[39;00m(msg) \u001B[38;5;28;01mfrom\u001B[39;00m \u001B[38;5;28;01mNone\u001B[39;00m\n\u001B[0;32m   1296\u001B[0m \u001B[38;5;28;01mexcept\u001B[39;00m \u001B[38;5;167;01mException\u001B[39;00m:\n\u001B[0;32m   1297\u001B[0m     \u001B[38;5;28mself\u001B[39m\u001B[38;5;241m.\u001B[39mlog\u001B[38;5;241m.\u001B[39mwarning(\u001B[38;5;124m\"\u001B[39m\u001B[38;5;124mInvalid Message:\u001B[39m\u001B[38;5;124m\"\u001B[39m, exc_info\u001B[38;5;241m=\u001B[39m\u001B[38;5;28;01mTrue\u001B[39;00m)\n",
      "\u001B[1;31mKeyboardInterrupt\u001B[0m: Interrupted by user"
     ]
    }
   ],
   "execution_count": 5
  },
  {
   "metadata": {},
   "cell_type": "markdown",
   "source": [
    "## Problem 2: Multiplication Table\n",
    "Write a Python program to print the multiplication table of a given number."
   ],
   "id": "2a6c5106f216396b"
  },
  {
   "metadata": {},
   "cell_type": "code",
   "outputs": [],
   "execution_count": null,
   "source": [
    "n = int(input(\"Number:\"))\n",
    "\n",
    "\n",
    "for i in range(1, 11):\n",
    "    print(n, \"*\", i , \"=\", n * i)\n",
    "    "
   ],
   "id": "61289cc46ff05e86"
  },
  {
   "metadata": {},
   "cell_type": "markdown",
   "source": [
    "## Problem 3: Sum of Squares\n",
    "Write a Python program to find the sum of squares of the first n natural numbers."
   ],
   "id": "3105c0b6064d1337"
  },
  {
   "metadata": {
    "ExecuteTime": {
     "end_time": "2024-08-16T15:38:08.339990Z",
     "start_time": "2024-08-16T15:38:02.807445Z"
    }
   },
   "cell_type": "code",
   "source": [
    "n = int(input(\"Number:\"))\n",
    "sum = 0\n",
    "for i in range(1, n):\n",
    "    exp = i**2\n",
    "    sum = sum + exp\n",
    "\n",
    "print(\"Sum of squares until\", n , \"=\", sum)\n"
   ],
   "id": "ea4be9558812144",
   "outputs": [
    {
     "name": "stdout",
     "output_type": "stream",
     "text": [
      "Sum of squares until 10 = 285\n"
     ]
    }
   ],
   "execution_count": 36
  },
  {
   "metadata": {},
   "cell_type": "markdown",
   "source": [
    "## Problem 4: List Operations\n",
    "- The sum of all elements in the list\n",
    "- The maximum element in the list\n",
    "- The minimum element in the list\n",
    "- The average of the elements in the list"
   ],
   "id": "81ca1ab70b64efe4"
  },
  {
   "metadata": {
    "ExecuteTime": {
     "end_time": "2024-08-16T15:45:47.107679Z",
     "start_time": "2024-08-16T15:45:47.096677Z"
    }
   },
   "cell_type": "code",
   "source": [
    "list = [12, 2, 3, 4, 11, 21, 7, 8, 9, 10]\n",
    "sum = 0\n",
    "max = list[0]\n",
    "min = list[0]\n",
    "\n",
    "# Sum of Array\n",
    "for i in range(len(list)):\n",
    "    sum += list[i]\n",
    " \n",
    "# Maximum of Array   \n",
    "for j in list:\n",
    "    if j > max:\n",
    "        max = j\n",
    "\n",
    "# Minimum of Array\n",
    "for k in list:\n",
    "    if k < min:\n",
    "        min = k\n",
    "\n",
    "# Average of Array\n",
    "average = sum / len(list)\n",
    "\n",
    "print(\"The sum of all elements is\", sum)\n",
    "print(\"The maximum element is\", max)\n",
    "print(\"The minimum element is\", min)\n",
    "print(\"The average element is\", average)"
   ],
   "id": "5f09973e0058f033",
   "outputs": [
    {
     "name": "stdout",
     "output_type": "stream",
     "text": [
      "The sum of all elements is 87\n",
      "The maximum element is 21\n",
      "The minimum element is 2\n",
      "The average element is 8.7\n"
     ]
    }
   ],
   "execution_count": 48
  },
  {
   "metadata": {},
   "cell_type": "markdown",
   "source": [
    "## Problem 5: Check Prime Number\n",
    "Write a Python program to check if a given number is a prime number."
   ],
   "id": "9095dd8cf94e12b5"
  },
  {
   "metadata": {
    "ExecuteTime": {
     "end_time": "2024-08-16T15:52:51.280244Z",
     "start_time": "2024-08-16T15:52:48.731621Z"
    }
   },
   "cell_type": "code",
   "source": [
    "n = int(input(\"Choose a number:\"))\n",
    "prime = True\n",
    "\n",
    "for i in range(2, int(n**0.5) + 1):\n",
    "    if n % i == 0:\n",
    "         prime = False\n",
    "\n",
    "print(\"Is\", n, \"a prime number:\", prime)\n",
    "\n"
   ],
   "id": "777058c9e7ce290e",
   "outputs": [
    {
     "name": "stdout",
     "output_type": "stream",
     "text": [
      "Is 123 a prime number: False\n"
     ]
    }
   ],
   "execution_count": 55
  },
  {
   "metadata": {},
   "cell_type": "markdown",
   "source": [
    "## Problem 6: Fibonacci Sequence\n",
    "Write a Python program to generate the Fibonacci sequence up to the n-th term."
   ],
   "id": "3254b20d8428b2e1"
  },
  {
   "metadata": {
    "ExecuteTime": {
     "end_time": "2024-08-16T15:56:40.389200Z",
     "start_time": "2024-08-16T15:56:40.373185Z"
    }
   },
   "cell_type": "code",
   "source": "",
   "id": "65d20c1036b1b873",
   "outputs": [],
   "execution_count": null
  }
 ],
 "metadata": {
  "kernelspec": {
   "display_name": "Python 3",
   "language": "python",
   "name": "python3"
  },
  "language_info": {
   "codemirror_mode": {
    "name": "ipython",
    "version": 2
   },
   "file_extension": ".py",
   "mimetype": "text/x-python",
   "name": "python",
   "nbconvert_exporter": "python",
   "pygments_lexer": "ipython2",
   "version": "2.7.6"
  }
 },
 "nbformat": 4,
 "nbformat_minor": 5
}
