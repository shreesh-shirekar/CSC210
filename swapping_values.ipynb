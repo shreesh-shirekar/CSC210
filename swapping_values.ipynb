{
 "cells": [
  {
   "cell_type": "code",
   "execution_count": 2,
   "metadata": {},
   "outputs": [
    {
     "name": "stdout",
     "output_type": "stream",
     "text": [
      "Hello CSC210!\n"
     ]
    }
   ],
   "source": [
    "print(\"Hello CSC210!\")"
   ]
  },
  {
   "cell_type": "markdown",
   "metadata": {},
   "source": [
    "#### Swapping two inputted values"
   ]
  },
  {
   "cell_type": "code",
   "execution_count": 1,
   "metadata": {},
   "outputs": [
    {
     "name": "stdout",
     "output_type": "stream",
     "text": [
      "First Number: \n",
      "Second Number: \n"
     ]
    }
   ],
   "source": [
    "x = input(\"Please enter a number:\")\n",
    "\n",
    "y = input(\"Please enter a number:\")\n",
    "\n",
    "tmp = x\n",
    "\n",
    "x = y\n",
    "\n",
    "y = tmp\n",
    "\n",
    "\n",
    "print(\"First Number:\", x)   \n",
    "print(\"Second Number:\",y)"
   ]
  },
  {
   "cell_type": "markdown",
   "metadata": {},
   "source": [
    "#### Another method which saves memory"
   ]
  },
  {
   "cell_type": "code",
   "execution_count": 5,
   "metadata": {},
   "outputs": [
    {
     "name": "stdout",
     "output_type": "stream",
     "text": [
      "First Number: 2\n",
      "Second Number: 1\n"
     ]
    }
   ],
   "source": [
    "x = int(input(\"Please enter a number:\"))\n",
    "\n",
    "y = int(input(\"Please enter a number:\"))\n",
    "\n",
    "x = x + y\n",
    "\n",
    "y = x - y\n",
    "\n",
    "x = x - y\n",
    "\n",
    "\n",
    "print(\"First Number:\", x)   \n",
    "print(\"Second Number:\",y)"
   ]
  }
 ],
 "metadata": {
  "kernelspec": {
   "display_name": "Python 3",
   "language": "python",
   "name": "python3"
  },
  "language_info": {
   "codemirror_mode": {
    "name": "ipython",
    "version": 3
   },
   "file_extension": ".py",
   "mimetype": "text/x-python",
   "name": "python",
   "nbconvert_exporter": "python",
   "pygments_lexer": "ipython3",
   "version": "3.10.7"
  }
 },
 "nbformat": 4,
 "nbformat_minor": 2
}
