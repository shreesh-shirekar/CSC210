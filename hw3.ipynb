{
 "cells": [
  {
   "cell_type": "markdown",
   "metadata": {},
   "source": [
    "# Merge Sort Implementation:\n",
    "Implement the Merge Sort algorithm to sort an array of integers in ascending order."
   ]
  },
  {
   "cell_type": "code",
   "execution_count": 24,
   "metadata": {},
   "outputs": [
    {
     "name": "stdout",
     "output_type": "stream",
     "text": [
      "[3, 9, 10, 27, 38, 43, 82]\n"
     ]
    }
   ],
   "source": [
    "def merge_sort(arr, left=0, right=None):\n",
    "    if right is None: #initializing right boundary to be length of list\n",
    "        right = len(arr)\n",
    "        \n",
    "    if right - left <= 1: # base case\n",
    "        return\n",
    "    \n",
    "    mid = (left + right) // 2 # finding middle point to split the list in half\n",
    "    \n",
    "    def merge(arr, left, mid, right): #merge function\n",
    "        L = arr[left:mid] # makes temp list left from left most element to middle - 1\n",
    "        R = arr[mid:right] #makes temp list right from middle element to right - 1\n",
    "        \n",
    "        i = j = 0 # initialize i and j pointer in the left and right array\n",
    "        k = left # initialize k pointer from the left for the original array\n",
    "        \n",
    "        while i < len(L) and j < len(R): \n",
    "            if L[i] <= R[j]: # if left array element is less than or equal than right array element \n",
    "                arr[k] = L[i] # take smaller element from left half \n",
    "                i += 1 # move left pointer\n",
    "            else:\n",
    "                arr[k] = R[j] # take smaller element from right half \n",
    "                j += 1 # move right pointer\n",
    "            k += 1 # move merged array pointer\n",
    "        \n",
    "        \n",
    "        while i < len(L):\n",
    "            arr[k] = L[i] # copy any remaining elements from left and put them into the array\n",
    "            i += 1\n",
    "            k += 1\n",
    "        \n",
    "        \n",
    "        while j < len(R):\n",
    "            arr[k] = R[j] # copy any remaining elements from right and put them into the array\n",
    "            j += 1\n",
    "            k += 1\n",
    "\n",
    "    \n",
    "    merge_sort(arr, left, mid) #recursive merge sort the left half\n",
    "    merge_sort(arr, mid, right) #recursive merge sort the right half\n",
    "    \n",
    "    merge(arr, left, mid, right) #merge the two halves\n",
    "    \n",
    "\n",
    "\n",
    "l1 = [38, 27, 43, 3, 9, 82, 10]\n",
    "merge_sort(l1)\n",
    "print(l1)"
   ]
  },
  {
   "cell_type": "markdown",
   "metadata": {},
   "source": [
    "# Iterative Merge Sort Implementation"
   ]
  },
  {
   "cell_type": "code",
   "execution_count": 1,
   "metadata": {},
   "outputs": [
    {
     "name": "stdout",
     "output_type": "stream",
     "text": [
      "Original array: [38, 27, 43, 3, 9, 82, 10]\n",
      "Sorted array: [3, 9, 10, 27, 38, 43, 82]\n"
     ]
    }
   ],
   "source": [
    "def merge(arr, left, mid, right):\n",
    "\n",
    "    n1 = mid - left + 1  # initialize the size of the first subarray\n",
    "    n2 = right - mid      # initialize the size of the second subarray\n",
    "\n",
    "    # Create temporary arrays to hold the elements\n",
    "    L = arr[left:mid + 1]\n",
    "    R = arr[mid + 1:right + 1]\n",
    "\n",
    "    # Initialize pointers for L, R, and the merged array\n",
    "    i, j, k = 0, 0, left\n",
    "\n",
    "    # Merge the two subarrays back into the main array\n",
    "    while i < n1 and j < n2:\n",
    "        if L[i] <= R[j]:\n",
    "            arr[k] = L[i]\n",
    "            i += 1\n",
    "        else:\n",
    "            arr[k] = R[j]\n",
    "            j += 1\n",
    "        k += 1\n",
    "\n",
    "    # Copy any remaining elements from L\n",
    "    while i < n1:\n",
    "        arr[k] = L[i]\n",
    "        i += 1\n",
    "        k += 1\n",
    "\n",
    "    # Copy any remaining elements from R\n",
    "    while j < n2:\n",
    "        arr[k] = R[j]\n",
    "        j += 1\n",
    "        k += 1\n",
    "\n",
    "\n",
    "def merge_sort_iterative(arr):\n",
    "    # iteratively merge\n",
    "    n = len(arr)\n",
    "\n",
    "    # Start with subarrays of size 1, and double the size each iteration\n",
    "    curr_size = 1\n",
    "\n",
    "    # Merge subarrays in bottom-up manner\n",
    "    while curr_size < n:\n",
    "        # Pick starting point of each left subarray\n",
    "        for left in range(0, n, 2 * curr_size):\n",
    "            # Calculate mid and right indices for current subarrays\n",
    "            mid = min(left + curr_size - 1, n - 1)\n",
    "            right = min(left + 2 * curr_size - 1, n - 1)\n",
    "\n",
    "            # Merge the two subarrays arr[left:mid+1] and arr[mid+1:right+1]\n",
    "            merge(arr, left, mid, right)\n",
    "\n",
    "        # Double the size of the subarray for the next iteration\n",
    "        curr_size *= 2\n",
    "\n",
    "\n",
    "arr = [38, 27, 43, 3, 9, 82, 10]\n",
    "print(\"Original array:\", arr)\n",
    "merge_sort_iterative(arr)\n",
    "print(\"Sorted array:\", arr)\n"
   ]
  },
  {
   "cell_type": "markdown",
   "metadata": {},
   "source": [
    "# Quick Sort Implementation"
   ]
  },
  {
   "cell_type": "code",
   "execution_count": 2,
   "metadata": {},
   "outputs": [
    {
     "name": "stdout",
     "output_type": "stream",
     "text": [
      "Original array: [10, 7, 8, 9, 1, 5]\n",
      "Sorted array: [1, 5, 7, 8, 9, 10]\n"
     ]
    }
   ],
   "source": [
    "def partition(arr, low, high):\n",
    "\n",
    "    pivot = arr[high]  # Select the pivot element (last element)\n",
    "    i = low - 1  # Pointer for the smaller element\n",
    "\n",
    "    # Traverse through the array from low to high-1\n",
    "    for j in range(low, high):\n",
    "        if arr[j] <= pivot:\n",
    "            i += 1  # Move the pointer to the right\n",
    "            # Swap arr[i] and arr[j] to place smaller element before pivot\n",
    "            arr[i], arr[j] = arr[j], arr[i]\n",
    "\n",
    "    # Swap the pivot element to its correct position\n",
    "    arr[i + 1], arr[high] = arr[high], arr[i + 1]\n",
    "    return i + 1  # Return the pivot index\n",
    "\n",
    "\n",
    "def quick_sort(arr, low, high):\n",
    "    if low < high:\n",
    "        # Partition the array and get the pivot index\n",
    "        pi = partition(arr, low, high)\n",
    "\n",
    "        # Recursively sort the elements before and after partition\n",
    "        quick_sort(arr, low, pi - 1)  # Sort left part\n",
    "        quick_sort(arr, pi + 1, high)  # Sort right part\n",
    "\n",
    "\n",
    "\n",
    "arr = [10, 7, 8, 9, 1, 5]\n",
    "print(\"Original array:\", arr)\n",
    "quick_sort(arr, 0, len(arr) - 1)\n",
    "print(\"Sorted array:\", arr)\n"
   ]
  },
  {
   "cell_type": "markdown",
   "metadata": {},
   "source": [
    "# k-th Smallest Element Using Quick Sort"
   ]
  },
  {
   "cell_type": "code",
   "execution_count": 3,
   "metadata": {},
   "outputs": [
    {
     "name": "stdout",
     "output_type": "stream",
     "text": [
      "The 3-th smallest element is: 7\n"
     ]
    }
   ],
   "source": [
    "def partition(arr, low, high):\n",
    "\n",
    "    pivot = arr[high]  # Choose the last element as pivot\n",
    "    i = low - 1  # Pointer for the smaller element\n",
    "\n",
    "    for j in range(low, high):\n",
    "        if arr[j] <= pivot:\n",
    "            i += 1  # Increment index of smaller element\n",
    "            arr[i], arr[j] = arr[j], arr[i]  # Swap\n",
    "\n",
    "    arr[i + 1], arr[high] = arr[high], arr[i + 1]  # Place pivot in correct position\n",
    "    return i + 1  # Return pivot index\n",
    "\n",
    "\n",
    "def quick_select(arr, low, high, k):\n",
    "\n",
    "    if low <= high:\n",
    "        # Partition the array and get the pivot index\n",
    "        pivot_index = partition(arr, low, high)\n",
    "\n",
    "        # If the pivot index is the k-th index\n",
    "        if pivot_index == k:\n",
    "            return arr[pivot_index]  # Found k-th smallest\n",
    "        elif pivot_index > k:\n",
    "            return quick_select(arr, low, pivot_index - 1, k)  # Search left\n",
    "        else:\n",
    "            return quick_select(arr, pivot_index + 1, high, k)  # Search right\n",
    "\n",
    "    return None  # If k is out of bounds\n",
    "\n",
    "\n",
    "def find_kth_smallest(arr, k):\n",
    "    if k < 1 or k > len(arr):\n",
    "        return None  # Return None if k is out of bounds\n",
    "    return quick_select(arr, 0, len(arr) - 1, k - 1)  # k - 1 for 0-based indexing\n",
    "\n",
    "\n",
    "\n",
    "arr = [7, 10, 4, 3, 20, 15]\n",
    "k = 3\n",
    "result = find_kth_smallest(arr, k)\n",
    "if result is not None:\n",
    "    print(f\"The {k}-th smallest element is: {result}\")\n",
    "else:\n",
    "    print(\"k is out of bounds.\")\n"
   ]
  },
  {
   "cell_type": "markdown",
   "metadata": {},
   "source": [
    "# Balanced Parentheses Using Stack"
   ]
  },
  {
   "cell_type": "code",
   "execution_count": 25,
   "metadata": {},
   "outputs": [
    {
     "name": "stdout",
     "output_type": "stream",
     "text": [
      "True\n"
     ]
    }
   ],
   "source": [
    "def is_balanced(expression):\n",
    "    stack = []\n",
    "\n",
    "    for char in expression:\n",
    "        if char in \"({[\":\n",
    "            stack.append(char)  # Push opening bracket onto the stack\n",
    "        elif char in \")}]\":\n",
    "            if not stack:  # If stack is empty, unbalanced\n",
    "                return False\n",
    "            top = stack.pop()  # Pop the top element\n",
    "            if (top == '(' and char != ')') or \\\n",
    "               (top == '{' and char != '}') or \\\n",
    "               (top == '[' and char != ']'):\n",
    "                return False  # Mismatched brackets\n",
    "\n",
    "    return len(stack) == 0  # Return True if stack is empty\n",
    "\n",
    "\n",
    "print(is_balanced(\"((()))\"))\n"
   ]
  },
  {
   "cell_type": "markdown",
   "metadata": {},
   "source": [
    "# Stack-Based Tower of Hanoi"
   ]
  },
  {
   "cell_type": "code",
   "execution_count": 11,
   "metadata": {},
   "outputs": [
    {
     "name": "stdout",
     "output_type": "stream",
     "text": [
      "Move disk 1 from  A to  C\n",
      "Move disk 2 from  A to  B\n",
      "Move disk 1 from  C to  B\n",
      "Move disk 3 from  A to  C\n",
      "Move disk 1 from  B to  A\n",
      "Move disk 2 from  B to  C\n",
      "Move disk 1 from  A to  C\n"
     ]
    }
   ],
   "source": [
    "def tower(n , source, destination, aux):\n",
    "    if n==1: # base case\n",
    "        print(\"Move disk 1 from \", source, \"to \", destination)\n",
    "        return\n",
    "    tower(n-1, source, aux, destination) # recursively move n-1 disks from the source to the aux rod \n",
    "    print(\"Move disk\", n, \"from \", source, \"to \", destination)\n",
    "    tower(n-1, aux, destination, source) # recursively move n-1 disks from aux to destination rod\n",
    "    \n",
    "n = 3\n",
    "tower(n, 'A', 'C', 'B')\n",
    "    "
   ]
  },
  {
   "cell_type": "markdown",
   "metadata": {},
   "source": [
    "# Reverse a String Using Stack"
   ]
  },
  {
   "cell_type": "code",
   "execution_count": 15,
   "metadata": {},
   "outputs": [
    {
     "name": "stdout",
     "output_type": "stream",
     "text": [
      "Hello World!\n"
     ]
    },
    {
     "data": {
      "text/plain": [
       "'!dlroW olleH'"
      ]
     },
     "execution_count": 15,
     "metadata": {},
     "output_type": "execute_result"
    }
   ],
   "source": [
    "def reverse(s):\n",
    "    stack = [] #init an empty list for stack\n",
    "    for i in s:\n",
    "        stack.append(i) # take the string and iteratively take each character and put it into the stack\n",
    "    \n",
    "    reverse = ''\n",
    "    while stack:\n",
    "        reverse += stack.pop() # take the stack and take the last element and pop it into the reverse list\n",
    "        \n",
    "    return reverse\n",
    "\n",
    "s = \"Hello World!\"\n",
    "\n",
    "print(s)\n",
    "reverse(s)"
   ]
  },
  {
   "cell_type": "markdown",
   "metadata": {},
   "source": [
    "# Reverse a Stack Using Queue"
   ]
  },
  {
   "cell_type": "code",
   "execution_count": 20,
   "metadata": {},
   "outputs": [
    {
     "data": {
      "text/plain": [
       "[23, 92, 98, 31, 3, 34]"
      ]
     },
     "execution_count": 20,
     "metadata": {},
     "output_type": "execute_result"
    }
   ],
   "source": [
    "def stack_reverse(stack):\n",
    "    queue = [] #init an empty list for queue\n",
    "    \n",
    "    while stack:\n",
    "        queue.append(stack.pop()) # take stack elements and pop them into the queue list\n",
    "        \n",
    "    queue.reverse() # reverse the list\n",
    "        \n",
    "    while queue:\n",
    "        stack.append(queue.pop()) # take the queue elements and pop them into the stack list\n",
    "        \n",
    "    return stack\n",
    "\n",
    "stack = [34, 3, 31, 98, 92, 23]\n",
    "\n",
    "stack_reverse(stack)"
   ]
  },
  {
   "cell_type": "markdown",
   "metadata": {},
   "source": [
    "# Evaluate Postfix Expression Using Stack"
   ]
  },
  {
   "cell_type": "code",
   "execution_count": 23,
   "metadata": {},
   "outputs": [
    {
     "data": {
      "text/plain": [
       "15"
      ]
     },
     "execution_count": 23,
     "metadata": {},
     "output_type": "execute_result"
    }
   ],
   "source": [
    "def calculate(s):\n",
    "    stack = [] # init emtpy stack\n",
    "    \n",
    "    def calculator(func, a, b): #this is just a function to evaluate the operators in the string\n",
    "        if func == '+':\n",
    "            return a + b\n",
    "        elif func == '-':\n",
    "            return a - b\n",
    "        elif func == '*':\n",
    "            return a * b\n",
    "        elif func == '/':\n",
    "            return int(a / b)\n",
    "        \n",
    "    for n in s.split(): # iterating over each element in string from input\n",
    "        if n.isdigit():\n",
    "            stack.append(int(n)) # if the element is a digit push it into the stack\n",
    "        else: # if token is a operator then pop last two digits and use calculator function and then append\n",
    "            b = stack.pop() \n",
    "            a = stack.pop()\n",
    "            result = calculator(n, a, b)\n",
    "            stack.append(result)\n",
    "    return stack.pop()\n",
    "\n",
    "s = \"2 3 + 4 1 - *\"\n",
    "calculate(s)"
   ]
  }
 ],
 "metadata": {
  "kernelspec": {
   "display_name": "Python 3",
   "language": "python",
   "name": "python3"
  },
  "language_info": {
   "codemirror_mode": {
    "name": "ipython",
    "version": 3
   },
   "file_extension": ".py",
   "mimetype": "text/x-python",
   "name": "python",
   "nbconvert_exporter": "python",
   "pygments_lexer": "ipython3",
   "version": "3.13.0"
  }
 },
 "nbformat": 4,
 "nbformat_minor": 2
}
