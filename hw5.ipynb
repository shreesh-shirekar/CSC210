{
 "cells": [
  {
   "cell_type": "markdown",
   "metadata": {},
   "source": [
    "# Closest Value in a BST"
   ]
  },
  {
   "cell_type": "code",
   "execution_count": 12,
   "metadata": {},
   "outputs": [
    {
     "name": "stdout",
     "output_type": "stream",
     "text": [
      "Closest value to 18 is: 18\n"
     ]
    }
   ],
   "source": [
    "class BinaryTree:\n",
    "    def __init__(self, key=None):\n",
    "        self.val = key\n",
    "        self.left = None\n",
    "        self.right = None\n",
    "    \n",
    "    def insert(self, key):\n",
    "        if self.val is None:\n",
    "            self.val = key\n",
    "        else:\n",
    "            if key < self.val:\n",
    "                if self.left is None:\n",
    "                    self.left = BinaryTree(key)\n",
    "                else:\n",
    "                    self.left.insert(key)\n",
    "            else:\n",
    "                if self.right is None:\n",
    "                    self.right = BinaryTree(key)\n",
    "                else:\n",
    "                    self.right.insert(key)\n",
    "\n",
    "    def closest_value(self, target):\n",
    "        closest = self.val\n",
    "        current = self\n",
    "        \n",
    "        while current:\n",
    "            if abs(current.val - target) < abs(closest - target):\n",
    "                closest = current.val\n",
    "                \n",
    "            if target < current.val:\n",
    "                current = current.left\n",
    "            else:\n",
    "                current = current.right\n",
    "                \n",
    "        return closest\n",
    "        \n",
    "tree = BinaryTree(10)\n",
    "tree.insert(5)\n",
    "tree.insert(15)\n",
    "tree.insert(3)\n",
    "tree.insert(7)\n",
    "tree.insert(12)\n",
    "tree.insert(18)\n",
    "\n",
    "target = 18\n",
    "print(f\"Closest value to {target} is: {tree.closest_value(target)}\")\n",
    "\n"
   ]
  },
  {
   "cell_type": "markdown",
   "metadata": {},
   "source": [
    "# Runaway Reservation Problem"
   ]
  },
  {
   "cell_type": "code",
   "execution_count": 24,
   "metadata": {},
   "outputs": [
    {
     "name": "stdout",
     "output_type": "stream",
     "text": [
      "True\n",
      "True\n",
      "False\n",
      "True\n",
      "False\n"
     ]
    },
    {
     "data": {
      "text/plain": [
       "[3, 10, 15]"
      ]
     },
     "execution_count": 24,
     "metadata": {},
     "output_type": "execute_result"
    }
   ],
   "source": [
    "class RunawaySystem:\n",
    "    def __init__(self, k):\n",
    "        self.reservations = []\n",
    "        self.k = k\n",
    "        \n",
    "    def add_reservation(self, t):\n",
    "        position = self.binary_search(t)\n",
    "        \n",
    "        if position > 0 and t - self.reservations[position - 1] < self.k:\n",
    "            return False\n",
    "        \n",
    "        if position < len(self.reservations) and self.reservations[position] - t < self.k:\n",
    "            return False\n",
    "        \n",
    "        self.reservations.insert(position, t)\n",
    "        return True\n",
    "    \n",
    "    def binary_search(self, t):\n",
    "        low = 0 \n",
    "        high = len(self.reservations)\n",
    "        \n",
    "        while low < high:\n",
    "            mid = (low + high) // 2\n",
    "            if self.reservations[mid] < t:\n",
    "                low = mid + 1\n",
    "            else:\n",
    "                high = mid\n",
    "        \n",
    "        return low\n",
    "    def show_reservations(self):\n",
    "        return self.reservations\n",
    "        \n",
    "        \n",
    "runaway = RunawaySystem(k=5)\n",
    "\n",
    "print(runaway.add_reservation(10))\n",
    "print(runaway.add_reservation(15))\n",
    "print(runaway.add_reservation(13))\n",
    "print(runaway.add_reservation(3))\n",
    "print(runaway.add_reservation(1))\n",
    "\n",
    "runaway.show_reservations()"
   ]
  }
 ],
 "metadata": {
  "kernelspec": {
   "display_name": "Python 3",
   "language": "python",
   "name": "python3"
  },
  "language_info": {
   "codemirror_mode": {
    "name": "ipython",
    "version": 3
   },
   "file_extension": ".py",
   "mimetype": "text/x-python",
   "name": "python",
   "nbconvert_exporter": "python",
   "pygments_lexer": "ipython3",
   "version": "3.13.0"
  }
 },
 "nbformat": 4,
 "nbformat_minor": 2
}
