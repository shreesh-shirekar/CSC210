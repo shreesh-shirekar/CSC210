{
 "cells": [
  {
   "metadata": {},
   "cell_type": "markdown",
   "source": [
    "## Problem 1: Big O Notation\n",
    "\n",
    "$$\n",
    "f(n) = 5n^3 + 4n^2 + 2\n",
    "$$\n",
    "\n",
    "(a) Prove that $f(n) = O(n^3)$.\n",
    "\n",
    "**Proof:**\n",
    "\n",
    "We need to find constants $c$ and $n_0$ such that $5n^3 + 4n^2 + 2 \\leq cn^3$ for all $n \\geq n_0$.\n",
    "\n",
    "Since $n^2 \\leq n^3$ for all $n \\geq 1$, we can write:\n",
    "$$\n",
    "5n^3 + 4n^2 + 2 \\leq 5n^3 + 4n^3 + 2 = 9n^3 + 2\n",
    "$$\n",
    "\n",
    "Let $c = 10$. Then, for all $n \\geq 1$, we have:\n",
    "$$\n",
    "9n^3 + 2 \\leq 10n^3 = cn^3\n",
    "$$\n",
    "\n",
    "Therefore, $f(n) = 5n^3 + 4n^2 + 2$ is $O(n^3)$ with $c = 10$ and $n_0 = 1$.\n",
    "\n",
    "(b) Show that $f(n)$ is not $O(n^2)$.\n",
    "\n",
    "**Proof by Contradiction:**\n",
    "\n",
    "Assume there exist positive constants $c$ and $n_0$ such that $5n^3 + 4n^2 + 2 \\leq cn^2$ for all $n \\geq n_0$.\n",
    "Dividing both sides by $n^2$, we get:\n",
    "$$\n",
    "5n + 4 + \\frac{2}{n^2} \\leq c\n",
    "$$\n",
    "As $n$ approaches infinity, the term $\\frac{2}{n^2}$ approaches 0. Therefore, we have:\n",
    "$$\n",
    "5n + 4 \\leq c\n",
    "$$\n",
    "This inequality cannot hold for all $n \\geq n_0$, as the left side grows without bound as $n$ increases, while the right side remains constant.\n",
    "\n",
    "Since the assumption that $f(n) = O(n^2)$ leads to a contradiction, we can conclude that $f(n)$ is not $O(n^2)$."
   ],
   "id": "d415430dc4c0c212"
  },
  {
   "metadata": {},
   "cell_type": "markdown",
   "source": [
    "## Problem 2: Comparing Algorithms\n",
    "\n",
    "(a) **Algorithm A** is more efficient for large values of n. This is because the growth rate of $n \\log n$ is significantly slower than $n^2$.\n",
    "\n",
    "(b) **Proof:**\n",
    "* **Lower bound:** Let $c_1 = 1$ and $n_0 = 1$. Then, for all $n \\geq n_0$, $2n^2 + 8n \\log n + 4 \\geq 2n^2 \\geq c_1n^2$.\n",
    "* **Upper bound:** Let $c_2 = 11$ and $n_0 = 1$. For $n \\geq n_0$, $8n \\log n \\leq 8n^2$. Therefore, $2n^2 + 8n \\log n + 4 \\leq 10n^2 + 4 \\leq 11n^2 = c_2n^2$.\n",
    "\n",
    "**Conclusion:** Since we've found suitable constants $c_1$, $c_2$, and $n_0$, we can conclude that $h(n) = \\Theta(n^2)$.\n",
    "\n",
    "(c) **Proof:**\n",
    "* Let $c = 3$ and $n_0 = 1$. For all $n \\geq n_0$, $g(n) = 3n \\log n + 7n + 10 \\geq 3n \\log n \\geq cn \\log n$.\n",
    "\n",
    "**Conclusion:** Therefore, $g(n) = \\Omega(n \\log n)$.\n",
    "\n",
    "To show that $g(n)$ is not $\\Omega(n^2)$, use a proof by contradiction. Assume there exist positive constants $c$ and $n_0$ such that $g(n) \\geq cn^2$ for all $n \\geq n_0$. This leads to a contradiction as the growth rate of $3n \\log n$ is slower than $cn^2$.\n",
    "\n",
    "(d) **Proof:**\n",
    "* Let $c$ be any positive constant. Rewrite $p(n)$ as $p(n) = n^3(3/n + 5/n^2 + 2/n^3)$. As $n$ approaches infinity, the terms $3/n$, $5/n^2$, and $2/n^3$ approach 0.\n",
    "* Therefore, for sufficiently large $n$, we can find an $n_0$ such that $3/n + 5/n^2 + 2/n^3 < c$.\n",
    "\n",
    "**Conclusion:** Thus, $p(n) = o(q(n))$."
   ],
   "id": "795693460d7478c4"
  }
 ],
 "metadata": {
  "kernelspec": {
   "display_name": "Python 3",
   "language": "python",
   "name": "python3"
  },
  "language_info": {
   "codemirror_mode": {
    "name": "ipython",
    "version": 2
   },
   "file_extension": ".py",
   "mimetype": "text/x-python",
   "name": "python",
   "nbconvert_exporter": "python",
   "pygments_lexer": "ipython2",
   "version": "2.7.6"
  }
 },
 "nbformat": 4,
 "nbformat_minor": 5
}
